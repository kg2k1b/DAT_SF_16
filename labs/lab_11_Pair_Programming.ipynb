{
 "cells": [
  {
   "cell_type": "markdown",
   "metadata": {},
   "source": [
    "# GA Data Science (DAT16) - Lab 11\n",
    "## Pair Programming"
   ]
  },
  {
   "cell_type": "markdown",
   "metadata": {},
   "source": [
    "### Heart Disease Dataset\n",
    "ref: [https://archive.ics.uci.edu/ml/datasets/Heart+Disease](https://archive.ics.uci.edu/ml/datasets/Heart+Disease)"
   ]
  },
  {
   "cell_type": "markdown",
   "metadata": {},
   "source": [
    "#### Features\n",
    "\n",
    "    Dataset has 76 total attributes - 14 attributes are used:\n",
    "    1. #3 (age)\n",
    "    2. #4 (sex)\n",
    "    3. #9 (cp)\n",
    "    4. #10 (trestbps)\n",
    "    5. #12 (chol)\n",
    "    6. #16 (fbs)\n",
    "    7. #19 (restecg)\n",
    "    8. #32 (thalach)\n",
    "    9. #38 (exang)\n",
    "    10. #40 (oldpeak)\n",
    "    11. #41 (slope)\n",
    "    12. #44 (ca)\n",
    "    13. #51 (thal)\n",
    "    14. #58 (num) (the predicted attribute - 0 is healthy and 1,2,3,4 indicate heart disease) "
   ]
  },
  {
   "cell_type": "markdown",
   "metadata": {},
   "source": [
    "### Class Exercise: Implement Random Forest"
   ]
  },
  {
   "cell_type": "markdown",
   "metadata": {},
   "source": [
    "#### Import the dataset into a pandas dataframe:\n",
    "\n",
    "Note: You'll have to manually add column labels"
   ]
  },
  {
   "cell_type": "code",
   "execution_count": 2,
   "metadata": {
    "collapsed": false
   },
   "outputs": [],
   "source": [
    "import numpy as np\n",
    "import pandas as pd\n",
    "\n",
    "from sklearn.cross_validation import cross_val_score\n",
    "from sklearn.ensemble import RandomForestClassifier\n"
   ]
  },
  {
   "cell_type": "code",
   "execution_count": 3,
   "metadata": {
    "collapsed": true
   },
   "outputs": [],
   "source": [
    "hdf = pd.read_csv(\"heart_disease.csv\", header = None).convert_objects(convert_numeric = True).dropna()\n",
    "hdf.columns = [\"age\", \"sex\", \"cp\", \"trestbps\", \"chol\", \"fbs\", \"restecg\", \"thalach\", \"exang\", \"oldpeak\", \"slope\", \"ca\", \"thal\", \"num\"]\n"
   ]
  },
  {
   "cell_type": "code",
   "execution_count": 4,
   "metadata": {
    "collapsed": true
   },
   "outputs": [],
   "source": [
    "feature_names = hdf.columns[0:-1]\n",
    "\n",
    "features = hdf[feature_names]\n",
    "target = hdf[\"num\"]\n",
    "features_norm = (features - features.mean()) / (features.max() - features.min())\n"
   ]
  },
  {
   "cell_type": "code",
   "execution_count": 5,
   "metadata": {
    "collapsed": false
   },
   "outputs": [
    {
     "name": "stdout",
     "output_type": "stream",
     "text": [
      "   age  sex  cp  trestbps  chol  fbs  restecg  thalach  exang  oldpeak  slope  \\\n",
      "0   63    1   1       145   233    1        2      150      0      2.3      3   \n",
      "1   67    1   4       160   286    0        2      108      1      1.5      2   \n",
      "2   67    1   4       120   229    0        2      129      1      2.6      2   \n",
      "3   37    1   3       130   250    0        0      187      0      3.5      3   \n",
      "4   41    0   2       130   204    0        2      172      0      1.4      1   \n",
      "\n",
      "   ca  thal  num  \n",
      "0   0     6    0  \n",
      "1   3     3    2  \n",
      "2   2     7    1  \n",
      "3   0     3    0  \n",
      "4   0     3    0  \n",
      "              age         sex          cp    trestbps        chol         fbs  \\\n",
      "count  297.000000  297.000000  297.000000  297.000000  297.000000  297.000000   \n",
      "mean    54.542088    0.676768    3.158249  131.693603  247.350168    0.144781   \n",
      "std      9.049736    0.468500    0.964859   17.762806   51.997583    0.352474   \n",
      "min     29.000000    0.000000    1.000000   94.000000  126.000000    0.000000   \n",
      "25%     48.000000    0.000000    3.000000  120.000000  211.000000    0.000000   \n",
      "50%     56.000000    1.000000    3.000000  130.000000  243.000000    0.000000   \n",
      "75%     61.000000    1.000000    4.000000  140.000000  276.000000    0.000000   \n",
      "max     77.000000    1.000000    4.000000  200.000000  564.000000    1.000000   \n",
      "\n",
      "          restecg     thalach       exang     oldpeak       slope          ca  \\\n",
      "count  297.000000  297.000000  297.000000  297.000000  297.000000  297.000000   \n",
      "mean     0.996633  149.599327    0.326599    1.055556    1.602694    0.676768   \n",
      "std      0.994914   22.941562    0.469761    1.166123    0.618187    0.938965   \n",
      "min      0.000000   71.000000    0.000000    0.000000    1.000000    0.000000   \n",
      "25%      0.000000  133.000000    0.000000    0.000000    1.000000    0.000000   \n",
      "50%      1.000000  153.000000    0.000000    0.800000    2.000000    0.000000   \n",
      "75%      2.000000  166.000000    1.000000    1.600000    2.000000    1.000000   \n",
      "max      2.000000  202.000000    1.000000    6.200000    3.000000    3.000000   \n",
      "\n",
      "             thal         num  \n",
      "count  297.000000  297.000000  \n",
      "mean     4.730640    0.946128  \n",
      "std      1.938629    1.234551  \n",
      "min      3.000000    0.000000  \n",
      "25%      3.000000    0.000000  \n",
      "50%      3.000000    0.000000  \n",
      "75%      7.000000    2.000000  \n",
      "max      7.000000    4.000000  \n",
      "                age           sex            cp      trestbps          chol  \\\n",
      "count  2.970000e+02  2.970000e+02  2.970000e+02  2.970000e+02  2.970000e+02   \n",
      "mean  -2.728831e-17  9.083643e-17 -1.420487e-17  7.291679e-17 -3.060590e-17   \n",
      "std    1.885362e-01  4.685000e-01  3.216198e-01  1.675736e-01  1.187159e-01   \n",
      "min   -5.321268e-01 -6.767677e-01 -7.194164e-01 -3.556000e-01 -2.770552e-01   \n",
      "25%   -1.362935e-01 -6.767677e-01 -5.274972e-02 -1.103170e-01 -8.299125e-02   \n",
      "50%    3.037318e-02  3.232323e-01 -5.274972e-02 -1.597738e-02 -9.931891e-03   \n",
      "75%    1.345398e-01  3.232323e-01  2.805836e-01  7.836224e-02  6.541057e-02   \n",
      "max    4.678732e-01  3.232323e-01  2.805836e-01  6.444000e-01  7.229448e-01   \n",
      "\n",
      "                fbs       restecg       thalach         exang       oldpeak  \\\n",
      "count  2.970000e+02  2.970000e+02  2.970000e+02  2.970000e+02  2.970000e+02   \n",
      "mean  -4.186700e-17  4.710037e-17  9.550909e-17  1.850372e-17 -4.177354e-17   \n",
      "std    3.524739e-01  4.974569e-01  1.751264e-01  4.697608e-01  1.880843e-01   \n",
      "min   -1.447811e-01 -4.983165e-01 -5.999949e-01 -3.265993e-01 -1.702509e-01   \n",
      "25%   -1.447811e-01 -4.983165e-01 -1.267124e-01 -3.265993e-01 -1.702509e-01   \n",
      "50%   -1.447811e-01  1.683502e-03  2.595934e-02 -3.265993e-01 -4.121864e-02   \n",
      "75%   -1.447811e-01  5.016835e-01  1.251960e-01  6.734007e-01  8.781362e-02   \n",
      "max    8.552189e-01  5.016835e-01  4.000051e-01  6.734007e-01  8.297491e-01   \n",
      "\n",
      "              slope            ca          thal  \n",
      "count  2.970000e+02  2.970000e+02  2.970000e+02  \n",
      "mean  -8.597687e-17 -6.083798e-17  1.046675e-17  \n",
      "std    3.090934e-01  3.129882e-01  4.846572e-01  \n",
      "min   -3.013468e-01 -2.255892e-01 -4.326599e-01  \n",
      "25%   -3.013468e-01 -2.255892e-01 -4.326599e-01  \n",
      "50%    1.986532e-01 -2.255892e-01 -4.326599e-01  \n",
      "75%    1.986532e-01  1.077441e-01  5.673401e-01  \n",
      "max    6.986532e-01  7.744108e-01  5.673401e-01  \n",
      "<class 'pandas.core.frame.DataFrame'>\n",
      "Int64Index: 297 entries, 0 to 301\n",
      "Data columns (total 14 columns):\n",
      "age         297 non-null float64\n",
      "sex         297 non-null float64\n",
      "cp          297 non-null float64\n",
      "trestbps    297 non-null float64\n",
      "chol        297 non-null float64\n",
      "fbs         297 non-null float64\n",
      "restecg     297 non-null float64\n",
      "thalach     297 non-null float64\n",
      "exang       297 non-null float64\n",
      "oldpeak     297 non-null float64\n",
      "slope       297 non-null float64\n",
      "ca          297 non-null float64\n",
      "thal        297 non-null float64\n",
      "num         297 non-null int64\n",
      "dtypes: float64(13), int64(1)\n",
      "memory usage: 34.8 KB\n",
      "None\n",
      "age         0\n",
      "sex         0\n",
      "cp          0\n",
      "trestbps    0\n",
      "chol        0\n",
      "fbs         0\n",
      "restecg     0\n",
      "thalach     0\n",
      "exang       0\n",
      "oldpeak     0\n",
      "slope       0\n",
      "ca          0\n",
      "thal        0\n",
      "num         0\n",
      "dtype: int64\n",
      "Index([u'age', u'sex', u'cp', u'trestbps', u'chol', u'fbs', u'restecg',\n",
      "       u'thalach', u'exang', u'oldpeak', u'slope', u'ca', u'thal'],\n",
      "      dtype='object')\n",
      "0      1\n",
      "1      0\n",
      "2      0\n",
      "3      1\n",
      "4      1\n",
      "5      1\n",
      "6      0\n",
      "7      1\n",
      "8      0\n",
      "9      0\n",
      "10     1\n",
      "11     1\n",
      "12     0\n",
      "13     1\n",
      "14     1\n",
      "15     1\n",
      "16     0\n",
      "17     1\n",
      "18     1\n",
      "19     1\n",
      "20     1\n",
      "21     1\n",
      "22     0\n",
      "23     0\n",
      "24     0\n",
      "25     1\n",
      "26     1\n",
      "27     1\n",
      "28     1\n",
      "29     0\n",
      "      ..\n",
      "271    1\n",
      "272    0\n",
      "273    1\n",
      "274    0\n",
      "275    1\n",
      "276    1\n",
      "277    1\n",
      "278    0\n",
      "279    1\n",
      "280    0\n",
      "281    1\n",
      "282    0\n",
      "283    1\n",
      "284    0\n",
      "285    0\n",
      "286    0\n",
      "288    1\n",
      "289    1\n",
      "290    0\n",
      "291    1\n",
      "292    0\n",
      "293    0\n",
      "294    0\n",
      "295    1\n",
      "296    0\n",
      "297    0\n",
      "298    0\n",
      "299    0\n",
      "300    0\n",
      "301    0\n",
      "Name: 0, dtype: float64\n"
     ]
    }
   ],
   "source": [
    "if True:\n",
    "    print hdf.head()\n",
    "    print hdf.describe()\n",
    "    print features_norm.describe()\n",
    "    print hdf.info()\n",
    "    print hdf.isnull().sum()\n",
    "    print feature_names\n",
    "    #print target\n",
    "    ntarget = pd.get_dummies(target)[0]\n",
    "    print ntarget"
   ]
  },
  {
   "cell_type": "code",
   "execution_count": 18,
   "metadata": {
    "collapsed": true
   },
   "outputs": [],
   "source": [
    "rfc = RandomForestClassifier(max_depth = 100, n_estimators = 50)\n",
    "accuracy = cross_val_score(rfc, features_norm, ntarget, cv = 5).mean()\n",
    "mrfc = rfc.fit(features_norm, ntarget)"
   ]
  },
  {
   "cell_type": "code",
   "execution_count": 19,
   "metadata": {
    "collapsed": false
   },
   "outputs": [
    {
     "name": "stdout",
     "output_type": "stream",
     "text": [
      "0.817796610169\n",
      "[ 0.08323851  0.0284161   0.11209578  0.06854011  0.0778283   0.01195544\n",
      "  0.02246646  0.11135953  0.0586605   0.09550813  0.06143475  0.13409761\n",
      "  0.1343988 ]\n"
     ]
    }
   ],
   "source": [
    "print accuracy\n",
    "print mrfc.feature_importances_"
   ]
  },
  {
   "cell_type": "code",
   "execution_count": null,
   "metadata": {
    "collapsed": true
   },
   "outputs": [],
   "source": []
  },
  {
   "cell_type": "markdown",
   "metadata": {},
   "source": [
    "#### Prepare and validate the data:"
   ]
  },
  {
   "cell_type": "markdown",
   "metadata": {},
   "source": [
    "Investigate the data and check for missing values - we've used .info() before:"
   ]
  },
  {
   "cell_type": "code",
   "execution_count": null,
   "metadata": {
    "collapsed": true
   },
   "outputs": [],
   "source": []
  },
  {
   "cell_type": "markdown",
   "metadata": {},
   "source": [
    "#### Clean the data to ensure it can be used in a random forest algorithm"
   ]
  },
  {
   "cell_type": "code",
   "execution_count": null,
   "metadata": {
    "collapsed": false
   },
   "outputs": [],
   "source": []
  },
  {
   "cell_type": "markdown",
   "metadata": {},
   "source": [
    "#### Select Features and convert Target to Boolean Class for Heart Disease (i.e., values 1, 2, 3 and 4 all indicate heart disease)"
   ]
  },
  {
   "cell_type": "code",
   "execution_count": null,
   "metadata": {
    "collapsed": false
   },
   "outputs": [],
   "source": []
  },
  {
   "cell_type": "markdown",
   "metadata": {},
   "source": [
    "#### Build the model and score with cross-validation"
   ]
  },
  {
   "cell_type": "code",
   "execution_count": null,
   "metadata": {
    "collapsed": false
   },
   "outputs": [],
   "source": []
  },
  {
   "cell_type": "markdown",
   "metadata": {},
   "source": [
    "#### How important are the various features?"
   ]
  },
  {
   "cell_type": "code",
   "execution_count": null,
   "metadata": {
    "collapsed": false
   },
   "outputs": [],
   "source": []
  },
  {
   "cell_type": "markdown",
   "metadata": {},
   "source": [
    "#### Plot Feature importances"
   ]
  },
  {
   "cell_type": "code",
   "execution_count": null,
   "metadata": {
    "collapsed": true
   },
   "outputs": [],
   "source": [
    "y=mrfc.feature_importances_\n",
    "x = [\"age\", \"sex\", \"cp\", \"trestbps\", \"chol\", \"fbs\", \"restecg\", \"thalach\", \"exang\", \"oldpeak\", \"slope\", \"ca\", \"thal\", \"num\"]\n",
    "p1 = figure(title='Feature Importances',x_axis_label='Features',tools='')\n",
    "p1.\n"
   ]
  },
  {
   "cell_type": "markdown",
   "metadata": {},
   "source": [
    "#### Bonus: Repeat the classification with Support Vector Machine"
   ]
  },
  {
   "cell_type": "code",
   "execution_count": null,
   "metadata": {
    "collapsed": true
   },
   "outputs": [],
   "source": []
  }
 ],
 "metadata": {
  "kernelspec": {
   "display_name": "Python 2",
   "language": "python",
   "name": "python2"
  },
  "language_info": {
   "codemirror_mode": {
    "name": "ipython",
    "version": 2
   },
   "file_extension": ".py",
   "mimetype": "text/x-python",
   "name": "python",
   "nbconvert_exporter": "python",
   "pygments_lexer": "ipython2",
   "version": "2.7.10"
  }
 },
 "nbformat": 4,
 "nbformat_minor": 0
}
