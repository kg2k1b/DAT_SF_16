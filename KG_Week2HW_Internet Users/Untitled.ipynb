{
 "cells": [
  {
   "cell_type": "code",
   "execution_count": 133,
   "metadata": {
    "collapsed": false
   },
   "outputs": [],
   "source": [
    "from bokeh.models import Range1d\n",
    "from bokeh.plotting import figure, show, output_server\n",
    "from bokeh.io import output_notebook\n",
    "import json"
   ]
  },
  {
   "cell_type": "code",
   "execution_count": 156,
   "metadata": {
    "collapsed": false,
    "scrolled": true
   },
   "outputs": [
    {
     "data": {
      "text/plain": [
       "<bokeh.plotting.Figure at 0xc359b38>"
      ]
     },
     "execution_count": 156,
     "metadata": {},
     "output_type": "execute_result"
    }
   ],
   "source": [
    "x = [1, 2, 3, 4, 5]\n",
    "y = [6, 7, 2, 4, 5]\n",
    "\n",
    "#output_notebook('http://localhost:8888/notebooks/GeneralAssembly/DAT_SF_16/')\n",
    "#p1 = figure(plot_width=400, plot_height=400)\n",
    "#p1 = figure()\n",
    "\n",
    "p1 = figure(title=\"simple line example\", x_axis_label='x', y_axis_label='y')\n",
    "p1.line(x, y, legend=\"Temp.\", line_width=2)\n"
   ]
  },
  {
   "cell_type": "code",
   "execution_count": 155,
   "metadata": {
    "collapsed": false
   },
   "outputs": [
    {
     "name": "stderr",
     "output_type": "stream",
     "text": [
      "ERROR:P:\\Anaconda Python\\Anaconda\\lib\\site-packages\\bokeh\\validation\\check.pyc:W-1001 (NO_GLYPH_RENDERERS): Plot has no glyph renderers: Figure, ViewModel:Plot, ref _id: 0e071e1a-a827-4843-bd3e-069d0d9c0c91\n",
      "ERROR:P:\\Anaconda Python\\Anaconda\\lib\\site-packages\\bokeh\\validation\\check.pyc:W-1001 (NO_GLYPH_RENDERERS): Plot has no glyph renderers: Figure, ViewModel:Plot, ref _id: 0e2b958f-b313-48f6-8e79-9e79620d0a55\n",
      "ERROR:P:\\Anaconda Python\\Anaconda\\lib\\site-packages\\bokeh\\validation\\check.pyc:W-1001 (NO_GLYPH_RENDERERS): Plot has no glyph renderers: Figure, ViewModel:Plot, ref _id: 0e7105a5-0e21-4703-a6d0-00163c1ad9a8\n",
      "ERROR:P:\\Anaconda Python\\Anaconda\\lib\\site-packages\\bokeh\\validation\\check.pyc:W-1001 (NO_GLYPH_RENDERERS): Plot has no glyph renderers: Figure, ViewModel:Plot, ref _id: 11655c37-3708-42e8-9f11-9c56588630f3\n",
      "ERROR:P:\\Anaconda Python\\Anaconda\\lib\\site-packages\\bokeh\\validation\\check.pyc:W-1001 (NO_GLYPH_RENDERERS): Plot has no glyph renderers: Figure, ViewModel:Plot, ref _id: 188848d9-a7bd-4663-90ad-e02cafd2be00\n",
      "ERROR:P:\\Anaconda Python\\Anaconda\\lib\\site-packages\\bokeh\\validation\\check.pyc:W-1001 (NO_GLYPH_RENDERERS): Plot has no glyph renderers: Figure, ViewModel:Plot, ref _id: 1b8901df-56e3-4051-a06e-bd2d5528e40a\n",
      "ERROR:P:\\Anaconda Python\\Anaconda\\lib\\site-packages\\bokeh\\validation\\check.pyc:W-1001 (NO_GLYPH_RENDERERS): Plot has no glyph renderers: Figure, ViewModel:Plot, ref _id: 294d1e26-d6c2-4474-8968-797683a717bf\n",
      "ERROR:P:\\Anaconda Python\\Anaconda\\lib\\site-packages\\bokeh\\validation\\check.pyc:W-1001 (NO_GLYPH_RENDERERS): Plot has no glyph renderers: Figure, ViewModel:Plot, ref _id: 395e687c-043c-4733-9850-e47af948486c\n",
      "ERROR:P:\\Anaconda Python\\Anaconda\\lib\\site-packages\\bokeh\\validation\\check.pyc:W-1001 (NO_GLYPH_RENDERERS): Plot has no glyph renderers: Figure, ViewModel:Plot, ref _id: 5935bdf0-8970-4a40-9db6-7c3c7d2d4b62\n",
      "ERROR:P:\\Anaconda Python\\Anaconda\\lib\\site-packages\\bokeh\\validation\\check.pyc:W-1001 (NO_GLYPH_RENDERERS): Plot has no glyph renderers: Figure, ViewModel:Plot, ref _id: 5bac0b7c-caae-4efb-8805-5955830e1fe3\n",
      "ERROR:P:\\Anaconda Python\\Anaconda\\lib\\site-packages\\bokeh\\validation\\check.pyc:W-1001 (NO_GLYPH_RENDERERS): Plot has no glyph renderers: Figure, ViewModel:Plot, ref _id: 5c19d94b-42da-4992-a477-98429eeafbe2\n",
      "ERROR:P:\\Anaconda Python\\Anaconda\\lib\\site-packages\\bokeh\\validation\\check.pyc:W-1001 (NO_GLYPH_RENDERERS): Plot has no glyph renderers: Figure, ViewModel:Plot, ref _id: 61ab41f6-dad7-4287-99ff-57559ea5b25e\n",
      "ERROR:P:\\Anaconda Python\\Anaconda\\lib\\site-packages\\bokeh\\validation\\check.pyc:W-1001 (NO_GLYPH_RENDERERS): Plot has no glyph renderers: Figure, ViewModel:Plot, ref _id: 64dec177-2214-46eb-90f6-61773a77991e\n",
      "ERROR:P:\\Anaconda Python\\Anaconda\\lib\\site-packages\\bokeh\\validation\\check.pyc:W-1001 (NO_GLYPH_RENDERERS): Plot has no glyph renderers: Figure, ViewModel:Plot, ref _id: 77188689-c2ba-47b1-bcff-041c0d1ff1cd\n",
      "ERROR:P:\\Anaconda Python\\Anaconda\\lib\\site-packages\\bokeh\\validation\\check.pyc:W-1001 (NO_GLYPH_RENDERERS): Plot has no glyph renderers: Figure, ViewModel:Plot, ref _id: 7879a5db-fc2d-4ce8-b64f-f9a794aa8135\n",
      "ERROR:P:\\Anaconda Python\\Anaconda\\lib\\site-packages\\bokeh\\validation\\check.pyc:W-1001 (NO_GLYPH_RENDERERS): Plot has no glyph renderers: Figure, ViewModel:Plot, ref _id: 79a5af89-3b1e-4311-85ee-e34a1a5ea4be\n",
      "ERROR:P:\\Anaconda Python\\Anaconda\\lib\\site-packages\\bokeh\\validation\\check.pyc:W-1001 (NO_GLYPH_RENDERERS): Plot has no glyph renderers: Figure, ViewModel:Plot, ref _id: 7e661764-2e22-410f-a30b-79cff314e2fe\n",
      "ERROR:P:\\Anaconda Python\\Anaconda\\lib\\site-packages\\bokeh\\validation\\check.pyc:W-1001 (NO_GLYPH_RENDERERS): Plot has no glyph renderers: Figure, ViewModel:Plot, ref _id: 8c31ed88-8457-4b33-9aae-21c6f094e10b\n",
      "ERROR:P:\\Anaconda Python\\Anaconda\\lib\\site-packages\\bokeh\\validation\\check.pyc:W-1001 (NO_GLYPH_RENDERERS): Plot has no glyph renderers: Figure, ViewModel:Plot, ref _id: 96cad71a-fb27-4ac3-ade2-9a63b816b766\n",
      "ERROR:P:\\Anaconda Python\\Anaconda\\lib\\site-packages\\bokeh\\validation\\check.pyc:W-1001 (NO_GLYPH_RENDERERS): Plot has no glyph renderers: Figure, ViewModel:Plot, ref _id: 9a0ea9e9-9570-457b-b0cf-b178cd51c071\n",
      "ERROR:P:\\Anaconda Python\\Anaconda\\lib\\site-packages\\bokeh\\validation\\check.pyc:W-1001 (NO_GLYPH_RENDERERS): Plot has no glyph renderers: Figure, ViewModel:Plot, ref _id: a5197fc0-350b-404e-a3e6-19612764004e\n",
      "ERROR:P:\\Anaconda Python\\Anaconda\\lib\\site-packages\\bokeh\\validation\\check.pyc:W-1001 (NO_GLYPH_RENDERERS): Plot has no glyph renderers: Figure, ViewModel:Plot, ref _id: a5791920-7ea8-4b2a-ab7a-2f673afa8b5e\n",
      "ERROR:P:\\Anaconda Python\\Anaconda\\lib\\site-packages\\bokeh\\validation\\check.pyc:W-1001 (NO_GLYPH_RENDERERS): Plot has no glyph renderers: Figure, ViewModel:Plot, ref _id: adcd73b5-52d4-4599-b46e-ab5b76c70b27\n",
      "ERROR:P:\\Anaconda Python\\Anaconda\\lib\\site-packages\\bokeh\\validation\\check.pyc:W-1001 (NO_GLYPH_RENDERERS): Plot has no glyph renderers: Figure, ViewModel:Plot, ref _id: c809c474-2136-4d33-9015-85fa6ba8ac3d\n",
      "ERROR:P:\\Anaconda Python\\Anaconda\\lib\\site-packages\\bokeh\\validation\\check.pyc:W-1001 (NO_GLYPH_RENDERERS): Plot has no glyph renderers: Figure, ViewModel:Plot, ref _id: cf0f8692-583b-46e0-83f3-1fe697cee733\n",
      "ERROR:P:\\Anaconda Python\\Anaconda\\lib\\site-packages\\bokeh\\validation\\check.pyc:W-1001 (NO_GLYPH_RENDERERS): Plot has no glyph renderers: Figure, ViewModel:Plot, ref _id: d1700d66-2fdc-4254-b4f2-8216c2256473\n",
      "ERROR:P:\\Anaconda Python\\Anaconda\\lib\\site-packages\\bokeh\\validation\\check.pyc:W-1001 (NO_GLYPH_RENDERERS): Plot has no glyph renderers: Figure, ViewModel:Plot, ref _id: d457c321-e685-4d96-830e-b21f2adf8d7d\n",
      "ERROR:P:\\Anaconda Python\\Anaconda\\lib\\site-packages\\bokeh\\validation\\check.pyc:W-1001 (NO_GLYPH_RENDERERS): Plot has no glyph renderers: Figure, ViewModel:Plot, ref _id: d9daa759-cd10-4597-99b1-6e9ebd85dae7\n",
      "ERROR:P:\\Anaconda Python\\Anaconda\\lib\\site-packages\\bokeh\\validation\\check.pyc:W-1001 (NO_GLYPH_RENDERERS): Plot has no glyph renderers: Figure, ViewModel:Plot, ref _id: e44ed711-5979-4b84-b3b3-1fea023d1b41\n",
      "ERROR:P:\\Anaconda Python\\Anaconda\\lib\\site-packages\\bokeh\\validation\\check.pyc:W-1001 (NO_GLYPH_RENDERERS): Plot has no glyph renderers: Figure, ViewModel:Plot, ref _id: f080671e-f17f-4e7f-9e46-c642da14800a\n"
     ]
    },
    {
     "ename": "AttributeError",
     "evalue": "'Session' object has no attribute 'docid'",
     "output_type": "error",
     "traceback": [
      "\u001b[1;31m---------------------------------------------------------------------------\u001b[0m",
      "\u001b[1;31mAttributeError\u001b[0m                            Traceback (most recent call last)",
      "\u001b[1;32m<ipython-input-155-4b1af81f547f>\u001b[0m in \u001b[0;36m<module>\u001b[1;34m()\u001b[0m\n\u001b[1;32m----> 1\u001b[1;33m \u001b[0mshow\u001b[0m\u001b[1;33m(\u001b[0m\u001b[0mp1\u001b[0m\u001b[1;33m)\u001b[0m\u001b[1;33m\u001b[0m\u001b[0m\n\u001b[0m",
      "\u001b[1;32mP:\\Anaconda Python\\Anaconda\\lib\\site-packages\\bokeh\\io.pyc\u001b[0m in \u001b[0;36mshow\u001b[1;34m(obj, browser, new)\u001b[0m\n\u001b[0;32m    235\u001b[0m \u001b[1;33m\u001b[0m\u001b[0m\n\u001b[0;32m    236\u001b[0m     '''\n\u001b[1;32m--> 237\u001b[1;33m     \u001b[0m_show_with_state\u001b[0m\u001b[1;33m(\u001b[0m\u001b[0mobj\u001b[0m\u001b[1;33m,\u001b[0m \u001b[0m_state\u001b[0m\u001b[1;33m,\u001b[0m \u001b[0mbrowser\u001b[0m\u001b[1;33m,\u001b[0m \u001b[0mnew\u001b[0m\u001b[1;33m)\u001b[0m\u001b[1;33m\u001b[0m\u001b[0m\n\u001b[0m\u001b[0;32m    238\u001b[0m \u001b[1;33m\u001b[0m\u001b[0m\n\u001b[0;32m    239\u001b[0m \u001b[1;32mdef\u001b[0m \u001b[0m_show_with_state\u001b[0m\u001b[1;33m(\u001b[0m\u001b[0mobj\u001b[0m\u001b[1;33m,\u001b[0m \u001b[0mstate\u001b[0m\u001b[1;33m,\u001b[0m \u001b[0mbrowser\u001b[0m\u001b[1;33m,\u001b[0m \u001b[0mnew\u001b[0m\u001b[1;33m)\u001b[0m\u001b[1;33m:\u001b[0m\u001b[1;33m\u001b[0m\u001b[0m\n",
      "\u001b[1;32mP:\\Anaconda Python\\Anaconda\\lib\\site-packages\\bokeh\\io.pyc\u001b[0m in \u001b[0;36m_show_with_state\u001b[1;34m(obj, state, browser, new)\u001b[0m\n\u001b[0;32m    242\u001b[0m \u001b[1;33m\u001b[0m\u001b[0m\n\u001b[0;32m    243\u001b[0m     \u001b[1;32mif\u001b[0m \u001b[0mstate\u001b[0m\u001b[1;33m.\u001b[0m\u001b[0mnotebook\u001b[0m\u001b[1;33m:\u001b[0m\u001b[1;33m\u001b[0m\u001b[0m\n\u001b[1;32m--> 244\u001b[1;33m         \u001b[0m_show_notebook_with_state\u001b[0m\u001b[1;33m(\u001b[0m\u001b[0mobj\u001b[0m\u001b[1;33m,\u001b[0m \u001b[0mstate\u001b[0m\u001b[1;33m)\u001b[0m\u001b[1;33m\u001b[0m\u001b[0m\n\u001b[0m\u001b[0;32m    245\u001b[0m \u001b[1;33m\u001b[0m\u001b[0m\n\u001b[0;32m    246\u001b[0m     \u001b[1;32melif\u001b[0m \u001b[0mstate\u001b[0m\u001b[1;33m.\u001b[0m\u001b[0msession\u001b[0m\u001b[1;33m:\u001b[0m\u001b[1;33m\u001b[0m\u001b[0m\n",
      "\u001b[1;32mP:\\Anaconda Python\\Anaconda\\lib\\site-packages\\bokeh\\io.pyc\u001b[0m in \u001b[0;36m_show_notebook_with_state\u001b[1;34m(obj, state)\u001b[0m\n\u001b[0;32m    256\u001b[0m \u001b[1;32mdef\u001b[0m \u001b[0m_show_notebook_with_state\u001b[0m\u001b[1;33m(\u001b[0m\u001b[0mobj\u001b[0m\u001b[1;33m,\u001b[0m \u001b[0mstate\u001b[0m\u001b[1;33m)\u001b[0m\u001b[1;33m:\u001b[0m\u001b[1;33m\u001b[0m\u001b[0m\n\u001b[0;32m    257\u001b[0m     \u001b[1;32mif\u001b[0m \u001b[0mstate\u001b[0m\u001b[1;33m.\u001b[0m\u001b[0msession\u001b[0m\u001b[1;33m:\u001b[0m\u001b[1;33m\u001b[0m\u001b[0m\n\u001b[1;32m--> 258\u001b[1;33m         \u001b[0mpush\u001b[0m\u001b[1;33m(\u001b[0m\u001b[0mstate\u001b[0m\u001b[1;33m=\u001b[0m\u001b[0mstate\u001b[0m\u001b[1;33m)\u001b[0m\u001b[1;33m\u001b[0m\u001b[0m\n\u001b[0m\u001b[0;32m    259\u001b[0m         \u001b[0msnippet\u001b[0m \u001b[1;33m=\u001b[0m \u001b[0mautoload_server\u001b[0m\u001b[1;33m(\u001b[0m\u001b[0mobj\u001b[0m\u001b[1;33m,\u001b[0m \u001b[0mstate\u001b[0m\u001b[1;33m.\u001b[0m\u001b[0msession\u001b[0m\u001b[1;33m)\u001b[0m\u001b[1;33m\u001b[0m\u001b[0m\n\u001b[0;32m    260\u001b[0m         \u001b[0mpublish_display_data\u001b[0m\u001b[1;33m(\u001b[0m\u001b[1;33m{\u001b[0m\u001b[1;34m'text/html'\u001b[0m\u001b[1;33m:\u001b[0m \u001b[0msnippet\u001b[0m\u001b[1;33m}\u001b[0m\u001b[1;33m)\u001b[0m\u001b[1;33m\u001b[0m\u001b[0m\n",
      "\u001b[1;32mP:\\Anaconda Python\\Anaconda\\lib\\site-packages\\bokeh\\io.pyc\u001b[0m in \u001b[0;36mpush\u001b[1;34m(session, document, state)\u001b[0m\n\u001b[0;32m    373\u001b[0m         \u001b[1;32mreturn\u001b[0m\u001b[1;33m\u001b[0m\u001b[0m\n\u001b[0;32m    374\u001b[0m \u001b[1;33m\u001b[0m\u001b[0m\n\u001b[1;32m--> 375\u001b[1;33m     \u001b[1;32mreturn\u001b[0m \u001b[0msession\u001b[0m\u001b[1;33m.\u001b[0m\u001b[0mstore_document\u001b[0m\u001b[1;33m(\u001b[0m\u001b[0mdocument\u001b[0m\u001b[1;33m)\u001b[0m\u001b[1;33m\u001b[0m\u001b[0m\n\u001b[0m\u001b[0;32m    376\u001b[0m \u001b[1;33m\u001b[0m\u001b[0m\n\u001b[0;32m    377\u001b[0m \u001b[1;32mdef\u001b[0m \u001b[0mreset_output\u001b[0m\u001b[1;33m(\u001b[0m\u001b[0mstate\u001b[0m\u001b[1;33m=\u001b[0m\u001b[0mNone\u001b[0m\u001b[1;33m)\u001b[0m\u001b[1;33m:\u001b[0m\u001b[1;33m\u001b[0m\u001b[0m\n",
      "\u001b[1;32mP:\\Anaconda Python\\Anaconda\\lib\\site-packages\\bokeh\\session.pyc\u001b[0m in \u001b[0;36mstore_document\u001b[1;34m(self, doc, dirty_only)\u001b[0m\n\u001b[0;32m    581\u001b[0m \u001b[1;33m\u001b[0m\u001b[0m\n\u001b[0;32m    582\u001b[0m         \u001b[0mjson_objs\u001b[0m \u001b[1;33m=\u001b[0m \u001b[0mdoc\u001b[0m\u001b[1;33m.\u001b[0m\u001b[0mdump\u001b[0m\u001b[1;33m(\u001b[0m\u001b[1;33m*\u001b[0m\u001b[0mmodels\u001b[0m\u001b[1;33m)\u001b[0m\u001b[1;33m\u001b[0m\u001b[0m\n\u001b[1;32m--> 583\u001b[1;33m         \u001b[0mself\u001b[0m\u001b[1;33m.\u001b[0m\u001b[0mpush\u001b[0m\u001b[1;33m(\u001b[0m\u001b[1;33m*\u001b[0m\u001b[0mjson_objs\u001b[0m\u001b[1;33m)\u001b[0m\u001b[1;33m\u001b[0m\u001b[0m\n\u001b[0m\u001b[0;32m    584\u001b[0m \u001b[1;33m\u001b[0m\u001b[0m\n\u001b[0;32m    585\u001b[0m         \u001b[1;32mfor\u001b[0m \u001b[0mmodel\u001b[0m \u001b[1;32min\u001b[0m \u001b[0mmodels\u001b[0m\u001b[1;33m:\u001b[0m\u001b[1;33m\u001b[0m\u001b[0m\n",
      "\u001b[1;32mP:\\Anaconda Python\\Anaconda\\lib\\site-packages\\bokeh\\session.pyc\u001b[0m in \u001b[0;36mpush\u001b[1;34m(self, *jsonobjs)\u001b[0m\n\u001b[0;32m    522\u001b[0m         \"\"\"\n\u001b[0;32m    523\u001b[0m         \u001b[0mdata\u001b[0m \u001b[1;33m=\u001b[0m \u001b[0mprotocol\u001b[0m\u001b[1;33m.\u001b[0m\u001b[0mserialize_json\u001b[0m\u001b[1;33m(\u001b[0m\u001b[0mjsonobjs\u001b[0m\u001b[1;33m)\u001b[0m\u001b[1;33m\u001b[0m\u001b[0m\n\u001b[1;32m--> 524\u001b[1;33m         \u001b[0murl\u001b[0m \u001b[1;33m=\u001b[0m \u001b[0murljoin\u001b[0m\u001b[1;33m(\u001b[0m\u001b[0mself\u001b[0m\u001b[1;33m.\u001b[0m\u001b[0mbase_url\u001b[0m\u001b[1;33m,\u001b[0m \u001b[0mself\u001b[0m\u001b[1;33m.\u001b[0m\u001b[0mdocid\u001b[0m \u001b[1;33m+\u001b[0m \u001b[1;34m\"/\"\u001b[0m\u001b[1;33m,\u001b[0m \u001b[1;34m\"bulkupsert\"\u001b[0m\u001b[1;33m)\u001b[0m\u001b[1;33m\u001b[0m\u001b[0m\n\u001b[0m\u001b[0;32m    525\u001b[0m         \u001b[0mself\u001b[0m\u001b[1;33m.\u001b[0m\u001b[0mpost_json\u001b[0m\u001b[1;33m(\u001b[0m\u001b[0murl\u001b[0m\u001b[1;33m,\u001b[0m \u001b[0mdata\u001b[0m\u001b[1;33m=\u001b[0m\u001b[0mdata\u001b[0m\u001b[1;33m)\u001b[0m\u001b[1;33m\u001b[0m\u001b[0m\n\u001b[0;32m    526\u001b[0m \u001b[1;33m\u001b[0m\u001b[0m\n",
      "\u001b[1;31mAttributeError\u001b[0m: 'Session' object has no attribute 'docid'"
     ]
    }
   ],
   "source": [
    "show(p1)"
   ]
  },
  {
   "cell_type": "code",
   "execution_count": 135,
   "metadata": {
    "collapsed": true
   },
   "outputs": [],
   "source": [
    "#p1 = figure(plot_width=400, plot_height=400)\n",
    "#p = figure(title=\"simple line example\", x_axis_label='x', y_axis_label='y')\n",
    "#p = figure()\n",
    "#p1.line(x,y)"
   ]
  },
  {
   "cell_type": "code",
   "execution_count": null,
   "metadata": {
    "collapsed": true
   },
   "outputs": [],
   "source": []
  }
 ],
 "metadata": {
  "kernelspec": {
   "display_name": "Python 2",
   "language": "python",
   "name": "python2"
  },
  "language_info": {
   "codemirror_mode": {
    "name": "ipython",
    "version": 2
   },
   "file_extension": ".py",
   "mimetype": "text/x-python",
   "name": "python",
   "nbconvert_exporter": "python",
   "pygments_lexer": "ipython2",
   "version": "2.7.10"
  }
 },
 "nbformat": 4,
 "nbformat_minor": 0
}
